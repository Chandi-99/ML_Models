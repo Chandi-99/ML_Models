{
 "cells": [
  {
   "cell_type": "code",
   "execution_count": 4,
   "id": "a5bcfe22",
   "metadata": {},
   "outputs": [
    {
     "name": "stdout",
     "output_type": "stream",
     "text": [
      "[10, 20, 30, 40, 10]\n",
      "[75, 65, 35, 75, 30]\n",
      "Result is True.\n",
      "Result is False.\n"
     ]
    }
   ],
   "source": [
    "numbers_x = [10, 20, 30, 40, 10]\n",
    "numbers_y = [75, 65, 35, 75, 30]\n",
    "\n",
    "print(numbers_x)\n",
    "print(numbers_y)\n",
    "\n",
    "def checkLastNumber(list):\n",
    "    length = len(list)\n",
    "    if list[0] == list[length-1]:\n",
    "        return 'True'\n",
    "    else:\n",
    "        return 'False'\n",
    "      \n",
    "print('Result is',checkLastNumber(numbers_x)+'.')\n",
    "print('Result is',checkLastNumber(numbers_y)+'.')"
   ]
  },
  {
   "cell_type": "code",
   "execution_count": null,
   "id": "9726f819",
   "metadata": {},
   "outputs": [],
   "source": []
  }
 ],
 "metadata": {
  "kernelspec": {
   "display_name": "Python 3",
   "language": "python",
   "name": "python3"
  },
  "language_info": {
   "codemirror_mode": {
    "name": "ipython",
    "version": 3
   },
   "file_extension": ".py",
   "mimetype": "text/x-python",
   "name": "python",
   "nbconvert_exporter": "python",
   "pygments_lexer": "ipython3",
   "version": "3.8.8"
  }
 },
 "nbformat": 4,
 "nbformat_minor": 5
}
