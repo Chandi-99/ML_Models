{
 "cells": [
  {
   "cell_type": "code",
   "execution_count": 11,
   "id": "f60bd27a",
   "metadata": {},
   "outputs": [],
   "source": [
    "from sklearn import datasets"
   ]
  },
  {
   "cell_type": "code",
   "execution_count": 7,
   "id": "18dccd00",
   "metadata": {},
   "outputs": [],
   "source": [
    "iris_datasets = datasets.load_iris()"
   ]
  },
  {
   "cell_type": "code",
   "execution_count": 8,
   "id": "b98247bd",
   "metadata": {},
   "outputs": [],
   "source": [
    "x = iris_datasets.data[:,:2]"
   ]
  },
  {
   "cell_type": "code",
   "execution_count": 9,
   "id": "ff691145",
   "metadata": {},
   "outputs": [],
   "source": [
    "x_count = len(x.flat)"
   ]
  },
  {
   "cell_type": "code",
   "execution_count": 12,
   "id": "2bdcf303",
   "metadata": {},
   "outputs": [
    {
     "data": {
      "text/plain": [
       "300"
      ]
     },
     "execution_count": 12,
     "metadata": {},
     "output_type": "execute_result"
    }
   ],
   "source": [
    "x_count"
   ]
  },
  {
   "cell_type": "code",
   "execution_count": 13,
   "id": "a923094a",
   "metadata": {},
   "outputs": [
    {
     "ename": "NameError",
     "evalue": "name 'x_min' is not defined",
     "output_type": "error",
     "traceback": [
      "\u001b[1;31m---------------------------------------------------------------------------\u001b[0m",
      "\u001b[1;31mNameError\u001b[0m                                 Traceback (most recent call last)",
      "\u001b[1;32m<ipython-input-13-007bd7fa5415>\u001b[0m in \u001b[0;36m<module>\u001b[1;34m\u001b[0m\n\u001b[1;32m----> 1\u001b[1;33m \u001b[0mx_min\u001b[0m\u001b[1;33m,\u001b[0m \u001b[0mx_max\u001b[0m\u001b[1;33m,\u001b[0m \u001b[0mx_mean\u001b[0m\u001b[1;33m\u001b[0m\u001b[1;33m\u001b[0m\u001b[0m\n\u001b[0m",
      "\u001b[1;31mNameError\u001b[0m: name 'x_min' is not defined"
     ]
    }
   ],
   "source": [
    "x_min, x_max, x_mean"
   ]
  },
  {
   "cell_type": "code",
   "execution_count": null,
   "id": "dcc7ee92",
   "metadata": {},
   "outputs": [],
   "source": []
  }
 ],
 "metadata": {
  "kernelspec": {
   "display_name": "Python 3",
   "language": "python",
   "name": "python3"
  },
  "language_info": {
   "codemirror_mode": {
    "name": "ipython",
    "version": 3
   },
   "file_extension": ".py",
   "mimetype": "text/x-python",
   "name": "python",
   "nbconvert_exporter": "python",
   "pygments_lexer": "ipython3",
   "version": "3.8.8"
  }
 },
 "nbformat": 4,
 "nbformat_minor": 5
}
