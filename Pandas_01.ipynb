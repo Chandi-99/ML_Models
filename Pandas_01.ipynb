{
 "cells": [
  {
   "cell_type": "code",
   "execution_count": 1,
   "id": "bd232ed0-83e4-429a-a6f6-cc7de13ee03b",
   "metadata": {},
   "outputs": [],
   "source": [
    "import pandas as pd"
   ]
  },
  {
   "cell_type": "code",
   "execution_count": 2,
   "id": "886d0926-85bb-4187-bfc5-cd568ba4a35c",
   "metadata": {},
   "outputs": [],
   "source": [
    "l = [x for x in range(5)]"
   ]
  },
  {
   "cell_type": "code",
   "execution_count": 3,
   "id": "65cc6857-5b12-436a-ba47-182206b187e0",
   "metadata": {},
   "outputs": [],
   "source": [
    "s = pd.Series(l)"
   ]
  },
  {
   "cell_type": "code",
   "execution_count": 4,
   "id": "474c7a19-cb6e-4dcb-a06e-82bc16d412fe",
   "metadata": {},
   "outputs": [
    {
     "data": {
      "text/plain": [
       "0    0\n",
       "1    1\n",
       "2    2\n",
       "3    3\n",
       "4    4\n",
       "dtype: int64"
      ]
     },
     "execution_count": 4,
     "metadata": {},
     "output_type": "execute_result"
    }
   ],
   "source": [
    "s"
   ]
  },
  {
   "cell_type": "code",
   "execution_count": 5,
   "id": "c674f468-c27d-4db0-8caa-e51f6cee6d04",
   "metadata": {},
   "outputs": [],
   "source": [
    "s = pd.Series(l, index=['a','b','c','d','e'])"
   ]
  },
  {
   "cell_type": "code",
   "execution_count": 6,
   "id": "8d8053c1-6904-4d76-8ff6-69cbfd43e8e3",
   "metadata": {},
   "outputs": [
    {
     "data": {
      "text/plain": [
       "a    0\n",
       "b    1\n",
       "c    2\n",
       "d    3\n",
       "e    4\n",
       "dtype: int64"
      ]
     },
     "execution_count": 6,
     "metadata": {},
     "output_type": "execute_result"
    }
   ],
   "source": [
    "s"
   ]
  },
  {
   "cell_type": "code",
   "execution_count": 12,
   "id": "c07835b5-c51b-4687-9092-c8c686920e24",
   "metadata": {},
   "outputs": [],
   "source": [
    "#s = pd.Series(l, index=['a','b','c','d','e','f']) error Length of passed values is 5, index implies 6."
   ]
  },
  {
   "cell_type": "code",
   "execution_count": 11,
   "id": "17e41eb9-4fc2-4ffd-9219-e583a501febf",
   "metadata": {},
   "outputs": [
    {
     "data": {
      "text/plain": [
       "4"
      ]
     },
     "execution_count": 11,
     "metadata": {},
     "output_type": "execute_result"
    }
   ],
   "source": [
    "s['e']"
   ]
  },
  {
   "cell_type": "code",
   "execution_count": 14,
   "id": "58961c5f-2e9f-4efd-8b31-e6c28d6fe40b",
   "metadata": {},
   "outputs": [
    {
     "data": {
      "text/plain": [
       "0     1\n",
       "1     2\n",
       "2     3\n",
       "3     4\n",
       "4     5\n",
       "5     6\n",
       "6     7\n",
       "7     8\n",
       "8     9\n",
       "9    10\n",
       "dtype: int64"
      ]
     },
     "execution_count": 14,
     "metadata": {},
     "output_type": "execute_result"
    }
   ],
   "source": [
    "s = pd.Series([x for x in range(1,11)])\n",
    "s"
   ]
  },
  {
   "cell_type": "code",
   "execution_count": 15,
   "id": "5a5c1599-b184-49fe-a218-fc7e20bb49f1",
   "metadata": {},
   "outputs": [
    {
     "data": {
      "text/plain": [
       "1"
      ]
     },
     "execution_count": 15,
     "metadata": {},
     "output_type": "execute_result"
    }
   ],
   "source": [
    "s.iloc[0]"
   ]
  },
  {
   "cell_type": "code",
   "execution_count": 16,
   "id": "8b0b0c51-6060-450e-b6b9-013e9e79963b",
   "metadata": {},
   "outputs": [
    {
     "data": {
      "text/plain": [
       "1"
      ]
     },
     "execution_count": 16,
     "metadata": {},
     "output_type": "execute_result"
    }
   ],
   "source": [
    "s.iat[0]"
   ]
  },
  {
   "cell_type": "code",
   "execution_count": 17,
   "id": "ed75a316-e1d8-4a14-beae-23bb7c268b40",
   "metadata": {},
   "outputs": [
    {
     "data": {
      "text/plain": [
       "5    6\n",
       "6    7\n",
       "7    8\n",
       "8    9\n",
       "dtype: int64"
      ]
     },
     "execution_count": 17,
     "metadata": {},
     "output_type": "execute_result"
    }
   ],
   "source": [
    "s[5:9]"
   ]
  },
  {
   "cell_type": "code",
   "execution_count": 19,
   "id": "d60593ab-13be-4249-90f8-7cf7c2a43503",
   "metadata": {},
   "outputs": [
    {
     "data": {
      "text/plain": [
       "6    7\n",
       "7    8\n",
       "8    9\n",
       "dtype: int64"
      ]
     },
     "execution_count": 19,
     "metadata": {},
     "output_type": "execute_result"
    }
   ],
   "source": [
    "s[-4:-1]"
   ]
  },
  {
   "cell_type": "code",
   "execution_count": 20,
   "id": "7260493b-a4b1-49cc-9c06-224bb4fbd1f6",
   "metadata": {},
   "outputs": [
    {
     "data": {
      "text/plain": [
       "0     NaN\n",
       "1     2.0\n",
       "2     NaN\n",
       "3     4.0\n",
       "4     NaN\n",
       "5     6.0\n",
       "6     NaN\n",
       "7     8.0\n",
       "8     NaN\n",
       "9    10.0\n",
       "dtype: float64"
      ]
     },
     "execution_count": 20,
     "metadata": {},
     "output_type": "execute_result"
    }
   ],
   "source": [
    "s.where(s%2 == 0)"
   ]
  },
  {
   "cell_type": "code",
   "execution_count": 22,
   "id": "d66ea47c-e2c3-4249-93df-34771f92c8b0",
   "metadata": {},
   "outputs": [
    {
     "data": {
      "text/plain": [
       "0    even\n",
       "1       2\n",
       "2    even\n",
       "3       4\n",
       "4    even\n",
       "5       6\n",
       "6    even\n",
       "7       8\n",
       "8    even\n",
       "9      10\n",
       "dtype: object"
      ]
     },
     "execution_count": 22,
     "metadata": {},
     "output_type": "execute_result"
    }
   ],
   "source": [
    "s.where(s%2==0,'even')"
   ]
  },
  {
   "cell_type": "code",
   "execution_count": 23,
   "id": "fec5dc3a-f07d-4cb3-a44b-af3dbabf5dae",
   "metadata": {},
   "outputs": [
    {
     "data": {
      "text/plain": [
       "0     1\n",
       "1     2\n",
       "2     9\n",
       "3     4\n",
       "4    25\n",
       "5     6\n",
       "6    49\n",
       "7     8\n",
       "8    81\n",
       "9    10\n",
       "dtype: int64"
      ]
     },
     "execution_count": 23,
     "metadata": {},
     "output_type": "execute_result"
    }
   ],
   "source": [
    "s.where(s%2==0,s**2)"
   ]
  },
  {
   "cell_type": "code",
   "execution_count": 27,
   "id": "87f9326a-e3eb-4e45-a153-e813b7197b1f",
   "metadata": {},
   "outputs": [
    {
     "data": {
      "text/plain": [
       "0     NaN\n",
       "1     2.0\n",
       "2     NaN\n",
       "3     4.0\n",
       "4     NaN\n",
       "5     6.0\n",
       "6     NaN\n",
       "7     8.0\n",
       "8     NaN\n",
       "9    10.0\n",
       "dtype: float64"
      ]
     },
     "execution_count": 27,
     "metadata": {},
     "output_type": "execute_result"
    }
   ],
   "source": [
    "s.where(s%2==0, inplace=True)\n",
    "s"
   ]
  },
  {
   "cell_type": "code",
   "execution_count": 28,
   "id": "01bbbd5f-ec75-40b0-a566-efc0e06c25b8",
   "metadata": {},
   "outputs": [
    {
     "data": {
      "text/plain": [
       "1     2.0\n",
       "3     4.0\n",
       "5     6.0\n",
       "7     8.0\n",
       "9    10.0\n",
       "dtype: float64"
      ]
     },
     "execution_count": 28,
     "metadata": {},
     "output_type": "execute_result"
    }
   ],
   "source": [
    "s.dropna()"
   ]
  },
  {
   "cell_type": "code",
   "execution_count": 29,
   "id": "9c5d0d60-5dc7-414d-9d8d-b272eb95ee6c",
   "metadata": {},
   "outputs": [
    {
     "data": {
      "text/plain": [
       "0    Filed Value\n",
       "1            2.0\n",
       "2    Filed Value\n",
       "3            4.0\n",
       "4    Filed Value\n",
       "5            6.0\n",
       "6    Filed Value\n",
       "7            8.0\n",
       "8    Filed Value\n",
       "9           10.0\n",
       "dtype: object"
      ]
     },
     "execution_count": 29,
     "metadata": {},
     "output_type": "execute_result"
    }
   ],
   "source": [
    "s.fillna('Filed Value')"
   ]
  },
  {
   "cell_type": "code",
   "execution_count": 32,
   "id": "cce87fff-809a-4043-aca4-ea7e6ee10a7a",
   "metadata": {},
   "outputs": [],
   "source": [
    "df = pd.DataFrame()"
   ]
  },
  {
   "cell_type": "code",
   "execution_count": 34,
   "id": "12cf56e9-8dd6-4cdc-a6a1-404baf36dcf7",
   "metadata": {},
   "outputs": [
    {
     "data": {
      "text/plain": [
       "pandas.core.frame.DataFrame"
      ]
     },
     "execution_count": 34,
     "metadata": {},
     "output_type": "execute_result"
    }
   ],
   "source": [
    "type(df)"
   ]
  },
  {
   "cell_type": "code",
   "execution_count": null,
   "id": "ff0c880f-d5b7-4772-8359-7d28830f191f",
   "metadata": {},
   "outputs": [],
   "source": [
    "#df = pd.read_csv('PandasExample.csv')\n",
    "df\n",
    "df.head()\n",
    "df.tail()\n",
    "df.head(3)\n",
    "df.iloc[0]\n",
    "df.values\n",
    "df = pd.read_csv('PandasExample.csv', chunksize=2)\n",
    "for chunk in df:\n",
    "    print(chunk)\n",
    "    \n",
    "df = df[df['Age']>25]"
   ]
  },
  {
   "cell_type": "code",
   "execution_count": null,
   "id": "712356d0-465a-4483-bff1-8941bee493c2",
   "metadata": {},
   "outputs": [],
   "source": [
    "import pandas as pd\n",
    "df = pd.read_csv('HousePrices.csv', parse_dates = True)\n",
    "df.head()\n",
    "df.loc['Seattle'].loc['2014-05-02 00:00:00']"
   ]
  },
  {
   "cell_type": "code",
   "execution_count": null,
   "id": "c461cb71-8d0c-4b43-81cc-804fdac5b9fe",
   "metadata": {},
   "outputs": [],
   "source": []
  }
 ],
 "metadata": {
  "kernelspec": {
   "display_name": "Python 3",
   "language": "python",
   "name": "python3"
  },
  "language_info": {
   "codemirror_mode": {
    "name": "ipython",
    "version": 3
   },
   "file_extension": ".py",
   "mimetype": "text/x-python",
   "name": "python",
   "nbconvert_exporter": "python",
   "pygments_lexer": "ipython3",
   "version": "3.8.8"
  }
 },
 "nbformat": 4,
 "nbformat_minor": 5
}
