{
 "cells": [
  {
   "cell_type": "code",
   "execution_count": 2,
   "id": "df6fad0b-72c4-42ec-9f31-e6e672052eee",
   "metadata": {},
   "outputs": [],
   "source": [
    "import numpy as np"
   ]
  },
  {
   "cell_type": "code",
   "execution_count": 2,
   "id": "b4697c24-41ab-4b08-959c-8369459c9d7e",
   "metadata": {},
   "outputs": [
    {
     "data": {
      "text/plain": [
       "array(24)"
      ]
     },
     "execution_count": 2,
     "metadata": {},
     "output_type": "execute_result"
    }
   ],
   "source": [
    "#0 dimension array\n",
    "np.array(24)"
   ]
  },
  {
   "cell_type": "code",
   "execution_count": 3,
   "id": "3b0ef4ca-2633-46f7-bc23-216fede00e39",
   "metadata": {},
   "outputs": [
    {
     "data": {
      "text/plain": [
       "array([1, 2, 3])"
      ]
     },
     "execution_count": 3,
     "metadata": {},
     "output_type": "execute_result"
    }
   ],
   "source": [
    "#1 Dimension array\n",
    "np.array([1,2,3])"
   ]
  },
  {
   "cell_type": "code",
   "execution_count": 4,
   "id": "acec7a45-1383-4cef-a2b4-5c82cc26f9e9",
   "metadata": {},
   "outputs": [
    {
     "data": {
      "text/plain": [
       "array([[1, 2, 3],\n",
       "       [4, 5, 6],\n",
       "       [7, 8, 9]])"
      ]
     },
     "execution_count": 4,
     "metadata": {},
     "output_type": "execute_result"
    }
   ],
   "source": [
    "#2 Dimension array\n",
    "np.array([[1,2,3],[4,5,6],[7,8,9]])"
   ]
  },
  {
   "cell_type": "code",
   "execution_count": 9,
   "id": "9ecc2648-e9ae-4b36-b693-034d455867b0",
   "metadata": {},
   "outputs": [
    {
     "data": {
      "text/plain": [
       "array([[[1, 2, 3],\n",
       "        [1, 2, 3]],\n",
       "\n",
       "       [[1, 2, 3],\n",
       "        [1, 2, 3]]])"
      ]
     },
     "execution_count": 9,
     "metadata": {},
     "output_type": "execute_result"
    }
   ],
   "source": [
    "#3 Dimension array\n",
    "np.array([[[1,2,3], [1,2,3]],[[1,2,3],[1,2,3]]])"
   ]
  },
  {
   "cell_type": "code",
   "execution_count": 10,
   "id": "135a430f-4a03-4915-be6d-65fee14cf534",
   "metadata": {},
   "outputs": [
    {
     "data": {
      "text/plain": [
       "(2, 2, 3)"
      ]
     },
     "execution_count": 10,
     "metadata": {},
     "output_type": "execute_result"
    }
   ],
   "source": [
    "#print array shape \n",
    "num_array_1 = np.array([[[1,2,3], [1,2,3]],[[1,2,3],[1,2,3]]])\n",
    "num_array_1.shape"
   ]
  },
  {
   "cell_type": "code",
   "execution_count": 21,
   "id": "3c8cc6f7-c7c3-407c-8efe-146e8cf14f21",
   "metadata": {},
   "outputs": [
    {
     "data": {
      "text/plain": [
       "array([1, 2, 3, 4, 5, 6, 7, 8, 9])"
      ]
     },
     "execution_count": 21,
     "metadata": {},
     "output_type": "execute_result"
    }
   ],
   "source": [
    "#auto fill\n",
    "num_array_2 = np.array([x for x in range(1,10)])\n",
    "num_array_2"
   ]
  },
  {
   "cell_type": "code",
   "execution_count": 19,
   "id": "9d221b1d-684d-4214-a866-6295e3059a07",
   "metadata": {},
   "outputs": [
    {
     "data": {
      "text/plain": [
       "array([list([1, 2, 3, 4, 5, 6, 7, 8, 9]),\n",
       "       list([10, 11, 12, 13, 14, 15, 16, 17, 18, 19])], dtype=object)"
      ]
     },
     "execution_count": 19,
     "metadata": {},
     "output_type": "execute_result"
    }
   ],
   "source": [
    "num_array_3 = np.array([[x for x in range(1,10)], [y for y in range(10,20)]], dtype='object')\n",
    "num_array_3"
   ]
  },
  {
   "cell_type": "code",
   "execution_count": 23,
   "id": "f65400f8-b939-4318-bdb1-eb4659824b55",
   "metadata": {},
   "outputs": [
    {
     "data": {
      "text/plain": [
       "array([[1, 2, 3],\n",
       "       [4, 5, 6],\n",
       "       [7, 8, 9]])"
      ]
     },
     "execution_count": 23,
     "metadata": {},
     "output_type": "execute_result"
    }
   ],
   "source": [
    "#3x3 = 9 otherwise error reshape to 2D\n",
    "num_array_2.reshape(3,3)"
   ]
  },
  {
   "cell_type": "code",
   "execution_count": 25,
   "id": "1ea3036f-1d87-4cab-987d-dba5b3e94200",
   "metadata": {},
   "outputs": [
    {
     "data": {
      "text/plain": [
       "array([[[ 1,  2],\n",
       "        [ 3,  4],\n",
       "        [ 5,  6]],\n",
       "\n",
       "       [[ 7,  8],\n",
       "        [ 9, 10],\n",
       "        [11, 12]]])"
      ]
     },
     "execution_count": 25,
     "metadata": {},
     "output_type": "execute_result"
    }
   ],
   "source": [
    "#2x3x2 = 12 otherwise error reshape to 3D\n",
    "num_array_2 = np.array([x for x in range(1,13)])\n",
    "num_array_2.reshape(2,3,2)"
   ]
  },
  {
   "cell_type": "code",
   "execution_count": 26,
   "id": "ce5e458a-b3e4-46ec-8524-a0a7252de94f",
   "metadata": {},
   "outputs": [
    {
     "data": {
      "text/plain": [
       "array([[[ 1,  2],\n",
       "        [ 3,  4]],\n",
       "\n",
       "       [[ 5,  6],\n",
       "        [ 7,  8]],\n",
       "\n",
       "       [[ 9, 10],\n",
       "        [11, 12]]])"
      ]
     },
     "execution_count": 26,
     "metadata": {},
     "output_type": "execute_result"
    }
   ],
   "source": [
    "num_array_2.reshape(3,2,2)"
   ]
  },
  {
   "cell_type": "code",
   "execution_count": 28,
   "id": "e61dff50-4cd3-4a29-9a32-d057543f841a",
   "metadata": {},
   "outputs": [
    {
     "data": {
      "text/plain": [
       "array([[[ 1,  2],\n",
       "        [ 3,  4],\n",
       "        [ 5,  6]],\n",
       "\n",
       "       [[ 7,  8],\n",
       "        [ 9, 10],\n",
       "        [11, 12]]])"
      ]
     },
     "execution_count": 28,
     "metadata": {},
     "output_type": "execute_result"
    }
   ],
   "source": [
    "#automatically calculates last dimension\n",
    "num_array_2.reshape(2,3,-1)"
   ]
  },
  {
   "cell_type": "code",
   "execution_count": 30,
   "id": "63ca2b92-2ff1-4706-8475-e4bcbef9efd2",
   "metadata": {},
   "outputs": [
    {
     "data": {
      "text/plain": [
       "array([ 1,  2,  3,  4,  5,  6,  7,  8,  9, 10, 11, 12])"
      ]
     },
     "execution_count": 30,
     "metadata": {},
     "output_type": "execute_result"
    }
   ],
   "source": [
    "#automatically calculates dimension\n",
    "num_array_2.reshape(-1)"
   ]
  },
  {
   "cell_type": "code",
   "execution_count": 38,
   "id": "9e0f5cc2-e5c5-406a-b4f4-5ba02587e6f8",
   "metadata": {},
   "outputs": [],
   "source": [
    "A = np.array([[1,2,3],[2,2,3]])\n",
    "B = np.array([3,4,5])"
   ]
  },
  {
   "cell_type": "code",
   "execution_count": 39,
   "id": "c9240848-f2a9-4086-a7e4-9e0b48f48ccf",
   "metadata": {},
   "outputs": [
    {
     "data": {
      "text/plain": [
       "array([[1, 2, 3],\n",
       "       [2, 2, 3]])"
      ]
     },
     "execution_count": 39,
     "metadata": {},
     "output_type": "execute_result"
    }
   ],
   "source": [
    "A"
   ]
  },
  {
   "cell_type": "code",
   "execution_count": 40,
   "id": "9215f905-84f8-4b9c-bb84-d8639c1eee28",
   "metadata": {},
   "outputs": [
    {
     "data": {
      "text/plain": [
       "array([3, 4, 5])"
      ]
     },
     "execution_count": 40,
     "metadata": {},
     "output_type": "execute_result"
    }
   ],
   "source": [
    "B"
   ]
  },
  {
   "cell_type": "code",
   "execution_count": 41,
   "id": "0daf77e2-3ea4-4bcf-a179-0844ab91c412",
   "metadata": {},
   "outputs": [
    {
     "data": {
      "text/plain": [
       "array([[4, 6, 8],\n",
       "       [5, 6, 8]])"
      ]
     },
     "execution_count": 41,
     "metadata": {},
     "output_type": "execute_result"
    }
   ],
   "source": [
    "#Numpy addition operation (column count should equal)\n",
    "np.add(A,B)"
   ]
  },
  {
   "cell_type": "code",
   "execution_count": 43,
   "id": "6365f184-96d2-461c-8042-b413e0ce5888",
   "metadata": {},
   "outputs": [
    {
     "data": {
      "text/plain": [
       "array([[-2, -2, -2],\n",
       "       [-1, -2, -2]])"
      ]
     },
     "execution_count": 43,
     "metadata": {},
     "output_type": "execute_result"
    }
   ],
   "source": [
    "#Numpy substraction operation (column count should equal)\n",
    "np.subtract(A,B)"
   ]
  },
  {
   "cell_type": "code",
   "execution_count": 44,
   "id": "d8adf103-633e-4ffc-a96c-371cb13182f6",
   "metadata": {},
   "outputs": [
    {
     "data": {
      "text/plain": [
       "array([[2, 2, 2],\n",
       "       [1, 2, 2]])"
      ]
     },
     "execution_count": 44,
     "metadata": {},
     "output_type": "execute_result"
    }
   ],
   "source": [
    "np.subtract(B,A)"
   ]
  },
  {
   "cell_type": "code",
   "execution_count": 45,
   "id": "04e17cec-d56a-4f08-96e5-9f3280f50f06",
   "metadata": {},
   "outputs": [
    {
     "data": {
      "text/plain": [
       "array([[ 3,  8, 15],\n",
       "       [ 6,  8, 15]])"
      ]
     },
     "execution_count": 45,
     "metadata": {},
     "output_type": "execute_result"
    }
   ],
   "source": [
    "#Numpy multiply\n",
    "np.multiply(A,B)"
   ]
  },
  {
   "cell_type": "code",
   "execution_count": 46,
   "id": "1b77632e-4fe4-46fb-8fed-7c319b8ed2b6",
   "metadata": {},
   "outputs": [
    {
     "data": {
      "text/plain": [
       "array([[0.33333333, 0.5       , 0.6       ],\n",
       "       [0.66666667, 0.5       , 0.6       ]])"
      ]
     },
     "execution_count": 46,
     "metadata": {},
     "output_type": "execute_result"
    }
   ],
   "source": [
    "#Numpy divide\n",
    "np.divide(A,B)"
   ]
  },
  {
   "cell_type": "code",
   "execution_count": 48,
   "id": "3d6a21f9-516f-4c21-b66f-37a5125d9adf",
   "metadata": {},
   "outputs": [
    {
     "data": {
      "text/plain": [
       "array([[1, 4, 9],\n",
       "       [4, 4, 9]], dtype=int32)"
      ]
     },
     "execution_count": 48,
     "metadata": {},
     "output_type": "execute_result"
    }
   ],
   "source": [
    "#Square of values\n",
    "np.power(A,2)"
   ]
  },
  {
   "cell_type": "code",
   "execution_count": 49,
   "id": "237787ad-60a2-41a9-b376-ef9f9514eb25",
   "metadata": {},
   "outputs": [
    {
     "data": {
      "text/plain": [
       "array([[  1,  16, 243],\n",
       "       [  8,  16, 243]], dtype=int32)"
      ]
     },
     "execution_count": 49,
     "metadata": {},
     "output_type": "execute_result"
    }
   ],
   "source": [
    "np.power(A,B)"
   ]
  },
  {
   "cell_type": "code",
   "execution_count": 56,
   "id": "21476bbc-6a0d-4bd2-ac30-564ac7bee5c0",
   "metadata": {},
   "outputs": [
    {
     "data": {
      "text/plain": [
       "array([0, 1, 2, 3, 4, 5, 6, 7, 8, 9])"
      ]
     },
     "execution_count": 56,
     "metadata": {},
     "output_type": "execute_result"
    }
   ],
   "source": [
    "#Numpy conditional statements\n",
    "x = np.array([i for i in range(10)])\n",
    "x"
   ]
  },
  {
   "cell_type": "code",
   "execution_count": 51,
   "id": "30a257e6-163d-4142-b80e-64094edec859",
   "metadata": {},
   "outputs": [
    {
     "data": {
      "text/plain": [
       "array(['even', 'odd', 'even', 'odd', 'even', 'odd', 'even', 'odd', 'even',\n",
       "       'odd'], dtype='<U4')"
      ]
     },
     "execution_count": 51,
     "metadata": {},
     "output_type": "execute_result"
    }
   ],
   "source": [
    "np.where(x%2==0,'even', 'odd')"
   ]
  },
  {
   "cell_type": "code",
   "execution_count": 58,
   "id": "72b616ea-94f9-4bfd-bfbb-8fe5855d9c27",
   "metadata": {},
   "outputs": [
    {
     "data": {
      "text/plain": [
       "array([  0,   1,   4,   9,  16,   5, 216, 343, 512, 729])"
      ]
     },
     "execution_count": 58,
     "metadata": {},
     "output_type": "execute_result"
    }
   ],
   "source": [
    "condlist = [x<5,x>5]\n",
    "choicelist = [x**2,x**3]\n",
    "np.select(condlist, choicelist, default=x)"
   ]
  },
  {
   "cell_type": "code",
   "execution_count": 3,
   "id": "c8bfcaec-b44a-4bee-b7c6-cd6e3edf33ec",
   "metadata": {},
   "outputs": [
    {
     "data": {
      "text/plain": [
       "array([[11, 23, 32],\n",
       "       [14, 52, 16],\n",
       "       [27, 84, 29]])"
      ]
     },
     "execution_count": 3,
     "metadata": {},
     "output_type": "execute_result"
    }
   ],
   "source": [
    "#Numpy Statistical functions\n",
    "ArrayNew = np.array([[11,23,32],[14,52,16],[27,84,29]])\n",
    "ArrayNew"
   ]
  },
  {
   "cell_type": "code",
   "execution_count": 13,
   "id": "b536d660-911c-41ec-b1d8-c4aa2419d3c8",
   "metadata": {},
   "outputs": [
    {
     "data": {
      "text/plain": [
       "11"
      ]
     },
     "execution_count": 13,
     "metadata": {},
     "output_type": "execute_result"
    }
   ],
   "source": [
    "np.amin(ArrayNew)"
   ]
  },
  {
   "cell_type": "code",
   "execution_count": 17,
   "id": "550d7ed2-8ad5-4845-9639-e543972b0420",
   "metadata": {},
   "outputs": [
    {
     "data": {
      "text/plain": [
       "array([11, 23, 16])"
      ]
     },
     "execution_count": 17,
     "metadata": {},
     "output_type": "execute_result"
    }
   ],
   "source": [
    "np.amin(ArrayNew, axis=0)"
   ]
  },
  {
   "cell_type": "code",
   "execution_count": 19,
   "id": "25a09e1d-fe58-4a76-a820-a6669b5b5461",
   "metadata": {},
   "outputs": [
    {
     "data": {
      "text/plain": [
       "array([11, 14, 27])"
      ]
     },
     "execution_count": 19,
     "metadata": {},
     "output_type": "execute_result"
    }
   ],
   "source": [
    "np.amin(ArrayNew, axis=1)"
   ]
  },
  {
   "cell_type": "code",
   "execution_count": 20,
   "id": "afa865ef-40b0-487a-bc4f-10e95889c9ab",
   "metadata": {},
   "outputs": [
    {
     "data": {
      "text/plain": [
       "84"
      ]
     },
     "execution_count": 20,
     "metadata": {},
     "output_type": "execute_result"
    }
   ],
   "source": [
    "np.amax(ArrayNew)"
   ]
  },
  {
   "cell_type": "code",
   "execution_count": 21,
   "id": "31668f35-b38b-4593-97cd-b4d2da09e0f0",
   "metadata": {},
   "outputs": [
    {
     "data": {
      "text/plain": [
       "array([27, 84, 32])"
      ]
     },
     "execution_count": 21,
     "metadata": {},
     "output_type": "execute_result"
    }
   ],
   "source": [
    "np.amax(ArrayNew, axis=0)"
   ]
  },
  {
   "cell_type": "code",
   "execution_count": 22,
   "id": "38fc5a41-4e57-490c-8dff-66a1fd9446c7",
   "metadata": {},
   "outputs": [
    {
     "data": {
      "text/plain": [
       "array([32, 52, 84])"
      ]
     },
     "execution_count": 22,
     "metadata": {},
     "output_type": "execute_result"
    }
   ],
   "source": [
    "np.amax(ArrayNew, axis=1)"
   ]
  },
  {
   "cell_type": "code",
   "execution_count": 24,
   "id": "46a4313e-c40f-4f18-89a1-cf94b2f223b1",
   "metadata": {},
   "outputs": [
    {
     "data": {
      "text/plain": [
       "27.0"
      ]
     },
     "execution_count": 24,
     "metadata": {},
     "output_type": "execute_result"
    }
   ],
   "source": [
    "np.median(ArrayNew)"
   ]
  },
  {
   "cell_type": "code",
   "execution_count": 26,
   "id": "f9cbdf4f-5a1e-4441-87e7-0891c6156b91",
   "metadata": {},
   "outputs": [
    {
     "data": {
      "text/plain": [
       "32.0"
      ]
     },
     "execution_count": 26,
     "metadata": {},
     "output_type": "execute_result"
    }
   ],
   "source": [
    "np.mean(ArrayNew)"
   ]
  },
  {
   "cell_type": "code",
   "execution_count": 28,
   "id": "53b2b243-0871-4e8a-b8dd-546b1dd023ec",
   "metadata": {},
   "outputs": [
    {
     "data": {
      "text/plain": [
       "471.1111111111111"
      ]
     },
     "execution_count": 28,
     "metadata": {},
     "output_type": "execute_result"
    }
   ],
   "source": [
    "np.var(ArrayNew)"
   ]
  },
  {
   "cell_type": "code",
   "execution_count": 4,
   "id": "e66e33b7-ba95-4269-9d22-bab8bf76e285",
   "metadata": {},
   "outputs": [
    {
     "data": {
      "text/plain": [
       "21.70509412813294"
      ]
     },
     "execution_count": 4,
     "metadata": {},
     "output_type": "execute_result"
    }
   ],
   "source": [
    "np.std(ArrayNew)"
   ]
  },
  {
   "cell_type": "code",
   "execution_count": 6,
   "id": "51a19900-4c75-4d41-a0ce-89e33f4cfa1e",
   "metadata": {},
   "outputs": [
    {
     "data": {
      "text/plain": [
       "27.0"
      ]
     },
     "execution_count": 6,
     "metadata": {},
     "output_type": "execute_result"
    }
   ],
   "source": [
    "np.percentile(ArrayNew, 50)"
   ]
  },
  {
   "cell_type": "code",
   "execution_count": 7,
   "id": "ee683229-12d8-48da-b2d4-ab21cce4e391",
   "metadata": {},
   "outputs": [],
   "source": [
    "deg = np.array([0,30,45,60,90])"
   ]
  },
  {
   "cell_type": "code",
   "execution_count": 8,
   "id": "36e6f48c-f4f9-42f8-be96-d87158c0702a",
   "metadata": {},
   "outputs": [
    {
     "data": {
      "text/plain": [
       "array([0.        , 0.5       , 0.70710678, 0.8660254 , 1.        ])"
      ]
     },
     "execution_count": 8,
     "metadata": {},
     "output_type": "execute_result"
    }
   ],
   "source": [
    "np.sin(deg*np.pi/180)"
   ]
  },
  {
   "cell_type": "code",
   "execution_count": 9,
   "id": "8838ded7-9e2e-406d-853c-649add410c63",
   "metadata": {},
   "outputs": [
    {
     "data": {
      "text/plain": [
       "array([1.00000000e+00, 8.66025404e-01, 7.07106781e-01, 5.00000000e-01,\n",
       "       6.12323400e-17])"
      ]
     },
     "execution_count": 9,
     "metadata": {},
     "output_type": "execute_result"
    }
   ],
   "source": [
    "np.cos(deg*np.pi/180)"
   ]
  },
  {
   "cell_type": "code",
   "execution_count": 10,
   "id": "744c78ec-953c-4838-a27c-ac1e5c36aa23",
   "metadata": {},
   "outputs": [
    {
     "data": {
      "text/plain": [
       "array([0.00000000e+00, 5.77350269e-01, 1.00000000e+00, 1.73205081e+00,\n",
       "       1.63312394e+16])"
      ]
     },
     "execution_count": 10,
     "metadata": {},
     "output_type": "execute_result"
    }
   ],
   "source": [
    "np.tan(deg*np.pi/180)"
   ]
  },
  {
   "cell_type": "code",
   "execution_count": 11,
   "id": "112e0199-045e-4cf0-8c09-05aa0b3c15b1",
   "metadata": {},
   "outputs": [
    {
     "data": {
      "text/plain": [
       "'\\narcsin\\narccos\\narctan\\n'"
      ]
     },
     "execution_count": 11,
     "metadata": {},
     "output_type": "execute_result"
    }
   ],
   "source": [
    "'''\n",
    "arcsin\n",
    "arccos\n",
    "arctan\n",
    "'''"
   ]
  },
  {
   "cell_type": "code",
   "execution_count": 12,
   "id": "74b7ab92-62a7-4d8c-a5f1-e18af16d5260",
   "metadata": {},
   "outputs": [],
   "source": [
    "ArrayLast = np.array([0,1,0,8,-2,2,-9.87])"
   ]
  },
  {
   "cell_type": "code",
   "execution_count": 14,
   "id": "185e830e-8817-41ee-b4cd-e8f477100acb",
   "metadata": {},
   "outputs": [
    {
     "data": {
      "text/plain": [
       "array([  0.,   1.,   0.,   8.,  -2.,   2., -10.])"
      ]
     },
     "execution_count": 14,
     "metadata": {},
     "output_type": "execute_result"
    }
   ],
   "source": [
    "np.floor(ArrayLast)"
   ]
  },
  {
   "cell_type": "code",
   "execution_count": 15,
   "id": "e82272d7-12ab-46f3-9843-42984b859c8c",
   "metadata": {},
   "outputs": [
    {
     "data": {
      "text/plain": [
       "array([ 0.,  1.,  0.,  8., -2.,  2., -9.])"
      ]
     },
     "execution_count": 15,
     "metadata": {},
     "output_type": "execute_result"
    }
   ],
   "source": [
    "np.ceil(ArrayLast)"
   ]
  },
  {
   "cell_type": "code",
   "execution_count": 16,
   "id": "41958826-c0b1-403f-b40f-ff4cd4c43363",
   "metadata": {},
   "outputs": [],
   "source": [
    "array_1d = np.array([1,2,3,4,5])"
   ]
  },
  {
   "cell_type": "code",
   "execution_count": 17,
   "id": "9dca84b1-f655-4589-8cf6-d13e22ee90de",
   "metadata": {},
   "outputs": [
    {
     "data": {
      "text/plain": [
       "1"
      ]
     },
     "execution_count": 17,
     "metadata": {},
     "output_type": "execute_result"
    }
   ],
   "source": [
    "array_1d[0]"
   ]
  },
  {
   "cell_type": "code",
   "execution_count": 19,
   "id": "3f4cf8d2-0dfc-452e-8019-bca447ba776f",
   "metadata": {},
   "outputs": [
    {
     "data": {
      "text/plain": [
       "5"
      ]
     },
     "execution_count": 19,
     "metadata": {},
     "output_type": "execute_result"
    }
   ],
   "source": [
    "array_1d[-1]"
   ]
  },
  {
   "cell_type": "code",
   "execution_count": 20,
   "id": "b4640710-179d-4233-a5ef-2be98ea33f1b",
   "metadata": {},
   "outputs": [
    {
     "data": {
      "text/plain": [
       "array([2, 3])"
      ]
     },
     "execution_count": 20,
     "metadata": {},
     "output_type": "execute_result"
    }
   ],
   "source": [
    "array_1d[1:3]"
   ]
  },
  {
   "cell_type": "code",
   "execution_count": 21,
   "id": "42b2e31b-a894-42d8-94eb-635c71a499af",
   "metadata": {},
   "outputs": [
    {
     "data": {
      "text/plain": [
       "array([3, 4, 5])"
      ]
     },
     "execution_count": 21,
     "metadata": {},
     "output_type": "execute_result"
    }
   ],
   "source": [
    "array_1d[2:]"
   ]
  },
  {
   "cell_type": "code",
   "execution_count": 22,
   "id": "67661c55-a931-4591-8d17-e732e248f5eb",
   "metadata": {},
   "outputs": [],
   "source": [
    "array_2d = np.array([[1,2,3],[5,6,7]])"
   ]
  },
  {
   "cell_type": "code",
   "execution_count": 23,
   "id": "e6cba9b5-e3f5-4074-b8ba-479eddac7500",
   "metadata": {},
   "outputs": [
    {
     "data": {
      "text/plain": [
       "2"
      ]
     },
     "execution_count": 23,
     "metadata": {},
     "output_type": "execute_result"
    }
   ],
   "source": [
    "array_2d[0,1]"
   ]
  },
  {
   "cell_type": "code",
   "execution_count": 24,
   "id": "7b69c45e-87d5-48ca-bb47-d1f90ff1299d",
   "metadata": {},
   "outputs": [
    {
     "data": {
      "text/plain": [
       "2"
      ]
     },
     "execution_count": 24,
     "metadata": {},
     "output_type": "execute_result"
    }
   ],
   "source": [
    "array_2d[0][1]"
   ]
  },
  {
   "cell_type": "code",
   "execution_count": 25,
   "id": "35a1e51a-095c-4c8d-a87e-e3717fcb0c07",
   "metadata": {},
   "outputs": [
    {
     "data": {
      "text/plain": [
       "array([[5, 6, 7]])"
      ]
     },
     "execution_count": 25,
     "metadata": {},
     "output_type": "execute_result"
    }
   ],
   "source": [
    "array_2d[1:2]"
   ]
  },
  {
   "cell_type": "code",
   "execution_count": 26,
   "id": "5b3afb03-3a84-422e-87fd-7153ed23b20a",
   "metadata": {},
   "outputs": [
    {
     "data": {
      "text/plain": [
       "7"
      ]
     },
     "execution_count": 26,
     "metadata": {},
     "output_type": "execute_result"
    }
   ],
   "source": [
    "array_2d[1,-1]"
   ]
  },
  {
   "cell_type": "code",
   "execution_count": 29,
   "id": "af0b8585-ba0d-415b-b6e7-a59a67ad3750",
   "metadata": {},
   "outputs": [],
   "source": [
    "array_3d = np.array([[[1,2,3],[7,8,9]],[[1,2,3],[7,8,9]]])"
   ]
  },
  {
   "cell_type": "code",
   "execution_count": 30,
   "id": "3f1ae73e-83a0-46e5-9560-f5cf9a2d4246",
   "metadata": {},
   "outputs": [
    {
     "data": {
      "text/plain": [
       "(2, 2, 3)"
      ]
     },
     "execution_count": 30,
     "metadata": {},
     "output_type": "execute_result"
    }
   ],
   "source": [
    "array_3d.shape"
   ]
  },
  {
   "cell_type": "code",
   "execution_count": 31,
   "id": "44f534ba-9bc4-457d-b212-2726f925c51f",
   "metadata": {},
   "outputs": [
    {
     "data": {
      "text/plain": [
       "9"
      ]
     },
     "execution_count": 31,
     "metadata": {},
     "output_type": "execute_result"
    }
   ],
   "source": [
    "array_3d[1,1,-1]"
   ]
  },
  {
   "cell_type": "code",
   "execution_count": null,
   "id": "045f165e-d09d-4c5c-8a11-228140ccc0d3",
   "metadata": {},
   "outputs": [],
   "source": []
  }
 ],
 "metadata": {
  "kernelspec": {
   "display_name": "Python 3",
   "language": "python",
   "name": "python3"
  },
  "language_info": {
   "codemirror_mode": {
    "name": "ipython",
    "version": 3
   },
   "file_extension": ".py",
   "mimetype": "text/x-python",
   "name": "python",
   "nbconvert_exporter": "python",
   "pygments_lexer": "ipython3",
   "version": "3.8.8"
  }
 },
 "nbformat": 4,
 "nbformat_minor": 5
}
